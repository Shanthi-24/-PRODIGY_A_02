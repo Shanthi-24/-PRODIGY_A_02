{
  "nbformat": 4,
  "nbformat_minor": 0,
  "metadata": {
    "colab": {
      "provenance": []
    },
    "kernelspec": {
      "name": "python3",
      "display_name": "Python 3"
    },
    "language_info": {
      "name": "python"
    }
  },
  "cells": [
    {
      "cell_type": "markdown",
      "source": [
        "# **GENERATING TEXT WITH MARKOV** **CHAINS**"
      ],
      "metadata": {
        "id": "6ikDg8cdcQKK"
      }
    },
    {
      "cell_type": "code",
      "source": [
        "weather_chain = {\n",
        "    'sun': ['sun', 'sun', 'sun', 'sun', 'sun', 'sun', 'sun', 'sun', 'sun', 'rain'],\n",
        "    'rain': ['sun', 'rain']\n",
        "}"
      ],
      "metadata": {
        "id": "q52KuJJYab78"
      },
      "execution_count": 41,
      "outputs": []
    },
    {
      "cell_type": "code",
      "source": [
        "import random\n",
        "\n",
        "# the initial state is chosen randomly\n",
        "weather = [random.choice(list(weather_chain.keys()))]\n",
        "for i in range(10):\n",
        "    weather.append(random.choice(weather_chain[weather[i]]))"
      ],
      "metadata": {
        "id": "Rx1_Hn_napsZ"
      },
      "execution_count": 42,
      "outputs": []
    },
    {
      "cell_type": "code",
      "source": [
        "['rain', 'rain', 'rain', 'sun', 'sun', 'sun', 'sun', 'sun', 'rain','rain','sun']"
      ],
      "metadata": {
        "colab": {
          "base_uri": "https://localhost:8080/"
        },
        "id": "FX62V0Iia0im",
        "outputId": "8101d29a-89b5-4656-a591-7ee4c402a5f9"
      },
      "execution_count": 44,
      "outputs": [
        {
          "output_type": "execute_result",
          "data": {
            "text/plain": [
              "['rain',\n",
              " 'rain',\n",
              " 'rain',\n",
              " 'sun',\n",
              " 'sun',\n",
              " 'sun',\n",
              " 'sun',\n",
              " 'sun',\n",
              " 'rain',\n",
              " 'rain',\n",
              " 'sun']"
            ]
          },
          "metadata": {},
          "execution_count": 44
        }
      ]
    },
    {
      "cell_type": "code",
      "source": [
        "def build_model(source, state_size):\n",
        "    '''\n",
        "    Given a corpus and a state size, build a Markov chain.\n",
        "    '''\n",
        "    source = source.split()\n",
        "    model = {}\n",
        "    for i in range(state_size, len(source)):\n",
        "        current_word = source[i]\n",
        "        previous_words = ' '.join(source[i-state_size:i])\n",
        "        if previous_words in model:\n",
        "            model[previous_words].append(current_word)\n",
        "        else:\n",
        "            model[previous_words] = [current_word]\n",
        "\n",
        "    return model"
      ],
      "metadata": {
        "id": "z3x_58FKbBP1"
      },
      "execution_count": 45,
      "outputs": []
    },
    {
      "cell_type": "code",
      "source": [
        "{\n",
        "  \"An apple\":[\n",
        "    \"is\"\n",
        "  ],\n",
        "  \"apple is\":[\n",
        "    \"very\"\n",
        "  ],\n",
        "  \"is very\":[\n",
        "    \"good.\",\n",
        "    \"bad.\"\n",
        "  ],\n",
        "  \"very good.\":[\n",
        "    \"An\"\n",
        "  ],\n",
        "  \"good. An\":[\n",
        "    \"orange\"\n",
        "  ],\n",
        "  \"An orange\":[\n",
        "    \"is\"\n",
        "  ],\n",
        "  \"orange is\":[\n",
        "    \"is\"\n",
        "  ]\n",
        "}"
      ],
      "metadata": {
        "colab": {
          "base_uri": "https://localhost:8080/"
        },
        "id": "tRxeEq3ubYQP",
        "outputId": "e4ec100f-d936-47e8-f8cc-ee3b5af08044"
      },
      "execution_count": 46,
      "outputs": [
        {
          "output_type": "execute_result",
          "data": {
            "text/plain": [
              "{'An apple': ['is'],\n",
              " 'apple is': ['very'],\n",
              " 'is very': ['good.', 'bad.'],\n",
              " 'very good.': ['An'],\n",
              " 'good. An': ['orange'],\n",
              " 'An orange': ['is'],\n",
              " 'orange\\xa0is': ['is']}"
            ]
          },
          "metadata": {},
          "execution_count": 46
        }
      ]
    },
    {
      "cell_type": "code",
      "source": [
        "def generate_text(model, state_size, min_length):\n",
        "    '''\n",
        "    Consume a Markov chain model (make sure to specify the <state_size> used)\n",
        "    to generate text that is at least <min_length> size long.\n",
        "    '''\n",
        "    def get_new_starter():\n",
        "        return random.choice([s.split(' ') for s in model.keys() if s[0].isupper()])\n",
        "    text = get_new_starter()\n",
        "\n",
        "    i = state_size\n",
        "    while True:\n",
        "        key = ' '.join(text[i-state_size:i])\n",
        "        if key not in model:\n",
        "            text += get_new_starter()\n",
        "            i += 1\n",
        "            continue\n",
        "\n",
        "        next_word = random.choice(model[key])\n",
        "        text.append(next_word)\n",
        "        i += 1\n",
        "        if i > min_length and text[-1][-1] == '.':\n",
        "           break\n",
        "    return ' '.join(text)"
      ],
      "metadata": {
        "id": "SDIlpZSzboym"
      },
      "execution_count": 47,
      "outputs": []
    },
    {
      "cell_type": "code",
      "source": [
        "'An apple is very bad.'\n",
        "'An orange is very bad.'\n",
        "'An orange is very good.'\n",
        "'An apple is very good.'"
      ],
      "metadata": {
        "colab": {
          "base_uri": "https://localhost:8080/",
          "height": 36
        },
        "id": "4o-aKaFncHOL",
        "outputId": "c41384f7-fdee-4cbf-d890-a9292e6c8a89"
      },
      "execution_count": 48,
      "outputs": [
        {
          "output_type": "execute_result",
          "data": {
            "text/plain": [
              "'An apple\\xa0is\\xa0very\\xa0good.'"
            ],
            "application/vnd.google.colaboratory.intrinsic+json": {
              "type": "string"
            }
          },
          "metadata": {},
          "execution_count": 48
        }
      ]
    }
  ]
}